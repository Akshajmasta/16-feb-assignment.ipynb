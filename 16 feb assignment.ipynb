{
 "cells": [
  {
   "attachments": {},
   "cell_type": "markdown",
   "metadata": {},
   "source": [
    "ANSWER 1"
   ]
  },
  {
   "attachments": {},
   "cell_type": "markdown",
   "metadata": {},
   "source": [
    "A database is a collection of organized and structured data that is stored in a computer or server. It allows users to store, manage, and retrieve data efficiently. There are two types of databases: SQL (Structured Query Language) and NoSQL (Not only SQL).\n",
    "SQL databases are relational databases that use tables to store data. They use a predefined schema to define the structure of the data. SQL databases are best suited for applications that require complex querying and transactions, such as financial applications.\n",
    "\n",
    "NoSQL databases, on the other hand, use document-oriented storage, key-value pairs, and graph databases to store data. They are best suited for applications that require high scalability and flexible data models, such as social media platforms."
   ]
  },
  {
   "attachments": {},
   "cell_type": "markdown",
   "metadata": {},
   "source": [
    "ANSWER 2"
   ]
  },
  {
   "attachments": {},
   "cell_type": "markdown",
   "metadata": {},
   "source": [
    "DDL (Data Definition Language) is used to define the structure of the database, including tables, columns, indexes, and constraints. The following are examples of DDL commands:\n",
    "CREATE: This command is used to create a new table in the database. For example:"
   ]
  },
  {
   "attachments": {},
   "cell_type": "markdown",
   "metadata": {},
   "source": [
    "CREATE TABLE employees (\n",
    "   id INT PRIMARY KEY,\n",
    "   name VARCHAR(255),\n",
    "   salary DECIMAL(10, 2)\n",
    ");\n"
   ]
  },
  {
   "attachments": {},
   "cell_type": "markdown",
   "metadata": {},
   "source": [
    "DROP: This command is used to delete an existing table from the database. For example:"
   ]
  },
  {
   "attachments": {},
   "cell_type": "markdown",
   "metadata": {},
   "source": [
    "DROP TABLE employees;\n"
   ]
  },
  {
   "attachments": {},
   "cell_type": "markdown",
   "metadata": {},
   "source": [
    "ALTER: This command is used to modify the structure of an existing table. For example:"
   ]
  },
  {
   "attachments": {},
   "cell_type": "markdown",
   "metadata": {},
   "source": [
    "ALTER TABLE employees ADD COLUMN age INT;\n"
   ]
  },
  {
   "attachments": {},
   "cell_type": "markdown",
   "metadata": {},
   "source": [
    "TRUNCATE: This command is used to remove all the data from a table. For example:"
   ]
  },
  {
   "attachments": {},
   "cell_type": "markdown",
   "metadata": {},
   "source": [
    "TRUNCATE TABLE employees;\n"
   ]
  },
  {
   "attachments": {},
   "cell_type": "markdown",
   "metadata": {},
   "source": [
    "ANSWER 3"
   ]
  },
  {
   "attachments": {},
   "cell_type": "markdown",
   "metadata": {},
   "source": [
    "DML (Data Manipulation Language) is used to manipulate the data stored in the database. The following are examples of DML commands:\n",
    "INSERT: This command is used to insert new data into a table. For example:"
   ]
  },
  {
   "attachments": {},
   "cell_type": "markdown",
   "metadata": {},
   "source": [
    "INSERT INTO employees (id, name, salary, age)\n",
    "VALUES (1, 'John', 5000.00, 25);\n"
   ]
  },
  {
   "attachments": {},
   "cell_type": "markdown",
   "metadata": {},
   "source": [
    "UPDATE: This command is used to modify the data in an existing table. For example:"
   ]
  },
  {
   "attachments": {},
   "cell_type": "markdown",
   "metadata": {},
   "source": [
    "UPDATE employees SET salary = 6000.00 WHERE id = 1;\n"
   ]
  },
  {
   "attachments": {},
   "cell_type": "markdown",
   "metadata": {},
   "source": [
    "DELETE: This command is used to delete data from an existing table. For example:"
   ]
  },
  {
   "attachments": {},
   "cell_type": "markdown",
   "metadata": {},
   "source": [
    "DELETE FROM employees WHERE id = 1;\n"
   ]
  },
  {
   "attachments": {},
   "cell_type": "markdown",
   "metadata": {},
   "source": [
    "ANSWER 4"
   ]
  },
  {
   "attachments": {},
   "cell_type": "markdown",
   "metadata": {},
   "source": [
    "DQL (Data Query Language) is used to retrieve data from the database. The following is an example of a DQL command:\n",
    "SELECT: This command is used to retrieve data from one or more tables. For example:"
   ]
  },
  {
   "cell_type": "markdown",
   "metadata": {},
   "source": [
    "SELECT * FROM employees;\n"
   ]
  },
  {
   "attachments": {},
   "cell_type": "markdown",
   "metadata": {},
   "source": [
    "ANSWER 5"
   ]
  },
  {
   "attachments": {},
   "cell_type": "markdown",
   "metadata": {},
   "source": [
    "A Primary Key is a column or set of columns that uniquely identifies each row in a table. It must contain unique values and cannot contain null values.\n",
    "A Foreign Key is a column or set of columns in a table that refers to the Primary Key of another table. It is used to establish a link between two tables, and it ensures referential integrity."
   ]
  },
  {
   "attachments": {},
   "cell_type": "markdown",
   "metadata": {},
   "source": [
    "ANSWER 6"
   ]
  },
  {
   "attachments": {},
   "cell_type": "markdown",
   "metadata": {},
   "source": [
    "Here is an example Python code to connect MySQL to Python:"
   ]
  },
  {
   "cell_type": "code",
   "execution_count": null,
   "metadata": {},
   "outputs": [],
   "source": [
    "import mysql.connector\n",
    "\n",
    "mydb = mysql.connector.connect(\n",
    "  host=\"localhost\",\n",
    "  user=\"yourusername\",\n",
    "  password=\"yourpassword\",\n",
    "  database=\"yourdatabase\"\n",
    ")\n",
    "\n",
    "mycursor = mydb.cursor()\n",
    "\n",
    "mycursor.execute(\"SELECT * FROM employees\")\n",
    "\n",
    "for x in mycursor:\n",
    "  print(x)\n"
   ]
  },
  {
   "attachments": {},
   "cell_type": "markdown",
   "metadata": {},
   "source": [
    "ANSWER 7"
   ]
  },
  {
   "attachments": {},
   "cell_type": "markdown",
   "metadata": {},
   "source": [
    "The order of execution of SQL clauses in an SQL query is as follows:\n",
    "\n",
    "FROM: This clause specifies the table or tables from which the data is to be retrieved.\n",
    "\n",
    "WHERE: This clause specifies the conditions that must be met for the data to be retrieved. It filters the rows based on the specified condition(s).\n",
    "\n",
    "GROUP BY: This clause groups the result set based on the specified columns. It is used with aggregate functions like COUNT, SUM, AVG, etc.\n",
    "\n",
    "HAVING: This clause is used to filter the result set based on the conditions specified in the GROUP BY clause.\n",
    "\n",
    "SELECT: This clause specifies the columns that are to be retrieved from the table(s).\n",
    "\n",
    "ORDER BY: This clause sorts the result set based on the specified column(s) and the specified sort order (ascending or descending).\n",
    "\n",
    "It's important to note that not all clauses are required in every SQL query, and some clauses like ORDER BY and HAVING may be optional depending on the query. The order of execution of clauses may also change depending on the specific query and the query optimizer used by the database management system."
   ]
  }
 ],
 "metadata": {
  "kernelspec": {
   "display_name": "Python 3",
   "language": "python",
   "name": "python3"
  },
  "language_info": {
   "codemirror_mode": {
    "name": "ipython",
    "version": 3
   },
   "file_extension": ".py",
   "mimetype": "text/x-python",
   "name": "python",
   "nbconvert_exporter": "python",
   "pygments_lexer": "ipython3",
   "version": "3.11.2"
  },
  "orig_nbformat": 4
 },
 "nbformat": 4,
 "nbformat_minor": 2
}
